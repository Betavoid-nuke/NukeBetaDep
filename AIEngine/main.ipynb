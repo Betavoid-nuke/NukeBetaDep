{
 "cells": [
  {
   "cell_type": "markdown",
   "metadata": {},
   "source": [
    "## **Running Betavoid Nuke AI for Gear Design**"
   ]
  },
  {
   "cell_type": "code",
   "execution_count": null,
   "metadata": {},
   "outputs": [],
   "source": [
    "# libraries\n",
    "\n",
    "import os\n",
    "from config import config, struct\n",
    "from ai_engine.py import gear\n",
    "from samples import bike\n",
    "from utils import import_file"
   ]
  },
  {
   "cell_type": "code",
   "execution_count": null,
   "metadata": {},
   "outputs": [],
   "source": [
    "# Set input variables\n",
    "\n",
    "# args = config.get_args().parse_args()\n",
    "args = struct.AttrDict()\n",
    "\n",
    "args.input = import_file.get(\"samples/jet.py\")\n",
    "args.save_path = \"./outputs/\"\n"
   ]
  },
  {
   "cell_type": "code",
   "execution_count": null,
   "metadata": {},
   "outputs": [],
   "source": [
    "# Build model\n",
    "\n",
    "model = gear.GearDesigner()\n"
   ]
  },
  {
   "cell_type": "code",
   "execution_count": null,
   "metadata": {},
   "outputs": [],
   "source": [
    "# Run\n",
    "\n",
    "outputs = model.process(args.input)\n"
   ]
  },
  {
   "cell_type": "code",
   "execution_count": null,
   "metadata": {},
   "outputs": [],
   "source": [
    "# Inspect some of the variables\n",
    "\n",
    "# Example query\n",
    "print(\"Num of Teeth = \", outputs.data.nT)\n",
    "print(\"Pressure Angle = \", outputs.data.pa)\n",
    "print(\"Force of Safety = \", outputs.data.fos)"
   ]
  },
  {
   "cell_type": "code",
   "execution_count": null,
   "metadata": {},
   "outputs": [],
   "source": [
    "# Inspect all computed variables\n",
    "\n",
    "print(outputs)"
   ]
  },
  {
   "cell_type": "code",
   "execution_count": null,
   "metadata": {},
   "outputs": [],
   "source": [
    "# get the variables as a single object\n",
    "\n",
    "out_vars = outputs.data"
   ]
  },
  {
   "cell_type": "code",
   "execution_count": null,
   "metadata": {},
   "outputs": [],
   "source": [
    "# Saving variables to a doc file\n",
    "\n",
    "out_file = os.path.join(args.save_path, \"output_cad_vars.py\")\n",
    "outputs.data.save(out_file)"
   ]
  },
  {
   "cell_type": "code",
   "execution_count": null,
   "metadata": {},
   "outputs": [],
   "source": [
    "# get the code as a single object\n",
    "\n",
    "out_code = outputs.code"
   ]
  },
  {
   "cell_type": "code",
   "execution_count": null,
   "metadata": {},
   "outputs": [],
   "source": [
    "\n",
    "# Saving code to a python file\n",
    "\n",
    "out_file = os.path.join(args.save_path, \"output_cad_code.py\")\n",
    "outputs.code.save(out_file)\n"
   ]
  },
  {
   "cell_type": "code",
   "execution_count": null,
   "metadata": {},
   "outputs": [],
   "source": [
    "# Command Line args:\n",
    "\n",
    "!python main.py --input=samples/jet.py --save_path=outputs/ -c -v"
   ]
  }
 ],
 "metadata": {
  "kernelspec": {
   "display_name": "base",
   "language": "python",
   "name": "python3"
  },
  "language_info": {
   "codemirror_mode": {
    "name": "ipython",
    "version": 3
   },
   "file_extension": ".py",
   "mimetype": "text/x-python",
   "name": "python",
   "nbconvert_exporter": "python",
   "pygments_lexer": "ipython3",
   "version": "3.10.9"
  }
 },
 "nbformat": 4,
 "nbformat_minor": 2
}
